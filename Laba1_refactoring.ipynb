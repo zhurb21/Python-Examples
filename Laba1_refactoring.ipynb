{
 "cells": [
  {
   "cell_type": "code",
   "execution_count": 1,
   "metadata": {},
   "outputs": [],
   "source": [
    "# Choose the group and get the id of this group\n",
    "import vk\n",
    "access_token = '60ef112660ef112660ef112689608209fe660ef60ef11263d62ac435ca5b7d42d7fd64c'\n",
    "session = vk.Session(access_token)\n",
    "vk_api = vk.API(session, v='5.89')\n",
    "group = 'pomogashkivtpu'\n",
    "m = vk_api.groups.getMembers(group_id = group)"
   ]
  },
  {
   "cell_type": "code",
   "execution_count": 2,
   "metadata": {},
   "outputs": [
    {
     "name": "stdout",
     "output_type": "stream",
     "text": [
      "3231\n"
     ]
    }
   ],
   "source": [
    "# Get the community members\n",
    "import time\n",
    "members = m['items']\n",
    "count_members = m['count'] // 1000\n",
    "for i in range(1, count_members+1):\n",
    "    members1000 = vk_api.groups.getMembers(group_id=group, offset=i*1000)['items'] \n",
    "    members +=members1000 \n",
    "    time.sleep(0.5)\n",
    "    \n",
    "print(len(members))"
   ]
  },
  {
   "cell_type": "code",
   "execution_count": 3,
   "metadata": {},
   "outputs": [],
   "source": [
    "# Function for looking up at user data\n",
    "def extract_userdata(user):\n",
    "    status = vk_api.users.get(user_id = user).pop() \n",
    "    return status"
   ]
  },
  {
   "cell_type": "code",
   "execution_count": 4,
   "metadata": {},
   "outputs": [
    {
     "name": "stdout",
     "output_type": "stream",
     "text": [
      "333\n",
      "327\n",
      "2571\n",
      "Verification amount:3231\n"
     ]
    }
   ],
   "source": [
    "#Data preprocessing\n",
    "number_private = 0 # closed profile counter\n",
    "number_deactivated = 0 # counter of deleted or banned users\n",
    "for m_key in members:\n",
    "    status = extract_userdata(m_key)\n",
    "    for status_key in status.keys(): # take the privacy field we need\n",
    "        if status_key == 'deactivated': # check if the profile is deleted or blocked\n",
    "            number_deactivated += 1\n",
    "            members.remove(m_key)\n",
    "            continue\n",
    "        if status_key == 'is_closed': # check if the profile is closed or not\n",
    "            if status[status_key] == True:\n",
    "                number_private += 1\n",
    "                members.remove(m_key)\n",
    "                continue\n",
    "            \n",
    "print(number_private)\n",
    "print(number_deactivated)\n",
    "print(len(members))\n",
    "print('Verification amount:'+str(number_private+number_deactivated+len(members)))"
   ]
  },
  {
   "cell_type": "code",
   "execution_count": 5,
   "metadata": {},
   "outputs": [],
   "source": [
    "#Function for list for community member number m\n",
    "def extract_groups(user):\n",
    "    listOfSubGr = vk_api.users.getSubscriptions(user_id = user)['groups']\n",
    "    return listOfSubGr"
   ]
  },
  {
   "cell_type": "code",
   "execution_count": 6,
   "metadata": {},
   "outputs": [
    {
     "name": "stdout",
     "output_type": "stream",
     "text": [
      "80993\n",
      "Number of user processing errors: 94\n",
      "Number of successfully processed users: 2477\n"
     ]
    }
   ],
   "source": [
    "# Data processing\n",
    "from collections import defaultdict\n",
    "number_errors = 0 # counter of unsuccessfully analyzed users for subscriptions\n",
    "number_success = 0 # counter of successfully analyzed users for subscriptions\n",
    "groups = defaultdict(list) # special dictionary, where each key corresponds to a list of values\n",
    "for m_key in members:\n",
    "    try:\n",
    "        listOfSubClear = extract_groups(m_key)['items'] # create a list with only group identifiers\n",
    "        for l_key in listOfSubClear: # iterator for all subscriptions of a specific person\n",
    "            groups[l_key].append(m_key) # filling in the dictionary, where the key is the group id and the values are the list of users\n",
    "        number_success += 1\n",
    "    except Exception:\n",
    "        number_errors += 1\n",
    "    \n",
    "print(len(groups.keys()))\n",
    "print('Number of user processing errors: ' + str(number_errors))\n",
    "print('Number of successfully processed users: ' + str(number_success))"
   ]
  },
  {
   "cell_type": "code",
   "execution_count": null,
   "metadata": {},
   "outputs": [],
   "source": [
    "# Translate the list id of users into the number of users\n",
    "dictOfMembers = {}\n",
    "for g_key in groups.keys():\n",
    "    dictOfMembers[g_key]=len(groups[g_key]) \n",
    "\n",
    "from collections import OrderedDict\n",
    "d_sorted_by_value = OrderedDict(sorted(dictOfMembers.items(), key=lambda x: x[1]))"
   ]
  },
  {
   "cell_type": "code",
   "execution_count": null,
   "metadata": {},
   "outputs": [],
   "source": [
    "# Display results in the table\n",
    "from beautifultable import BeautifulTable\n",
    "table = BeautifulTable()\n",
    "table.column_headers = ['Name of community', 'Quantity of subscribers']\n",
    "\n",
    "count = 0\n",
    "for key in reversed(d_sorted_by_value):\n",
    "    table.append_row([vk_api.groups.getById(group_ids = key).pop()['name'], d_sorted_by_value[key]])\n",
    "    count += 1\n",
    "    if count == 10:\n",
    "        break\n",
    "    time.sleep(0.5)\n",
    "    \n",
    "print(table)"
   ]
  }
 ],
 "metadata": {
  "kernelspec": {
   "display_name": "Python 3",
   "language": "python",
   "name": "python3"
  },
  "language_info": {
   "codemirror_mode": {
    "name": "ipython",
    "version": 3
   },
   "file_extension": ".py",
   "mimetype": "text/x-python",
   "name": "python",
   "nbconvert_exporter": "python",
   "pygments_lexer": "ipython3",
   "version": "3.7.4"
  }
 },
 "nbformat": 4,
 "nbformat_minor": 2
}
