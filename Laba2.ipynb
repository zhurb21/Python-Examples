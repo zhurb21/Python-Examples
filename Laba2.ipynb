{
 "cells": [
  {
   "cell_type": "code",
   "execution_count": 2,
   "metadata": {},
   "outputs": [],
   "source": [
    "import vk\n",
    "session = vk.Session(access_token='60ef112660ef112660ef112689608209fe660ef60ef11263d62ac435ca5b7d42d7fd64c')\n",
    "vk_api = vk.API(session, v='5.89')\n",
    "group = 'pomogashkivtpu'\n",
    "m = vk_api.groups.getMembers(group_id = group)"
   ]
  },
  {
   "cell_type": "code",
   "execution_count": 2,
   "metadata": {},
   "outputs": [
    {
     "name": "stdout",
     "output_type": "stream",
     "text": [
      "Количество участников в сообществе pomogashkivtpu: 3208\n"
     ]
    }
   ],
   "source": [
    "import time\n",
    "members = m['items']\n",
    "count_members = m['count'] // 1000  # т.к. максимальное число членов возвращаемое 1 запросом 1 тысяча, нам необходимо узнать сколько запросов необходимо сделать\n",
    "for i in range(1, count_members+1):\n",
    "    members1000 = vk_api.groups.getMembers(group_id=group, offset=i*1000)['items'] # считываем очередную 1000 членов сообщества\n",
    "    members +=members1000 # прибавляем 1000 к уже имеющимся id членов сообщества\n",
    "    time.sleep(0.5)\n",
    "    \n",
    "print('Количество участников в сообществе {0}: {1}'.format(group,len(members)))"
   ]
  },
  {
   "cell_type": "code",
   "execution_count": 3,
   "metadata": {},
   "outputs": [
    {
     "name": "stdout",
     "output_type": "stream",
     "text": [
      "Количество приватных профилей в сообществе: 321\n",
      "Количество удаленных или забанненых профилей в сообществе: 320\n",
      "Оставшиеся профили: 2567\n",
      "Проверочная сумма:3208\n"
     ]
    }
   ],
   "source": [
    "#Предварительная обработка данных\n",
    "\n",
    "import time\n",
    "number_private = 0 # счетчик закрытых профилей\n",
    "number_deactivated = 0 # счетчик удаленных или забанненых пользователей\n",
    "for m_key in members:\n",
    "    status = vk_api.users.get(user_id = m_key).pop() # смотрим данные пользователя\n",
    "    for status_key in status.keys(): # берем нужное нам поле приватности\n",
    "        if status_key == 'deactivated': # проверяем является ли профиль удаленным или заблокированным\n",
    "            number_deactivated += 1\n",
    "            members.remove(m_key)\n",
    "            continue\n",
    "        if status_key == 'is_closed': # проверяем является ли профиль закрытым или нет\n",
    "            if status[status_key] == True:\n",
    "                number_private += 1\n",
    "                members.remove(m_key)\n",
    "                continue\n",
    "    time.sleep(0.5)\n",
    "            \n",
    "print('Количество приватных профилей в сообществе: ' + str(number_private))\n",
    "print('Количество удаленных или забанненых профилей в сообществе: ' + str(number_deactivated))\n",
    "print('Оставшиеся профили: ' + str(len(members)))\n",
    "print('Проверочная сумма:'+str(number_private+number_deactivated+len(members)))"
   ]
  },
  {
   "cell_type": "code",
   "execution_count": 4,
   "metadata": {},
   "outputs": [
    {
     "name": "stdout",
     "output_type": "stream",
     "text": [
      "Общее количество человек в словаре: 2567\n",
      "Количество ошибок при обработке пользователей: 0\n",
      "Количество успешно обработанных пользователей: 2567\n"
     ]
    }
   ],
   "source": [
    "from collections import defaultdict\n",
    "import time\n",
    "number_errors = 0 # счетчик неуспешно проанализированных пользователей на подписки\n",
    "number_success = 0 # счетчик успешно проанализированных пользователей на подписки\n",
    "users_dict = defaultdict(dict) # специальный словарь, где каждому ключу соответсвует dict значений\n",
    "for m_key in members:\n",
    "        user = vk_api.users.get(user_id = m_key, fields = 'sex, bdate, city, country').pop() # выводим списки для члена сообщества номер m\n",
    "        u_dict = {}\n",
    "        if 'sex' in user:\n",
    "            u_dict['sex'] = user['sex']\n",
    "        else:\n",
    "            u_dict['sex'] = 0\n",
    "        if 'bdate' in user:\n",
    "            u_dict['bdate'] = user['bdate']\n",
    "        else:\n",
    "            u_dict['bdate'] = 0\n",
    "        if 'city' in user:\n",
    "            u_dict['city'] = user['city']['title']\n",
    "        else:\n",
    "            u_dict['city'] = 0\n",
    "        if 'country' in user:\n",
    "            u_dict['country'] = user['country']['title']\n",
    "        else:\n",
    "            u_dict['country'] = 0\n",
    "        users_dict[m_key] = u_dict\n",
    "        number_success += 1\n",
    "        time.sleep(0.5)\n",
    "    \n",
    "print('Общее количество человек в словаре: ' + str(len(users_dict.keys())))\n",
    "print('Количество ошибок при обработке пользователей: ' + str(number_errors))\n",
    "print('Количество успешно обработанных пользователей: ' + str(number_success))"
   ]
  },
  {
   "cell_type": "code",
   "execution_count": 3,
   "metadata": {},
   "outputs": [
    {
     "ename": "NameError",
     "evalue": "name 'users_dict' is not defined",
     "output_type": "error",
     "traceback": [
      "\u001b[1;31m---------------------------------------------------------------------------\u001b[0m",
      "\u001b[1;31mNameError\u001b[0m                                 Traceback (most recent call last)",
      "\u001b[1;32m<ipython-input-3-e382ea44f914>\u001b[0m in \u001b[0;36m<module>\u001b[1;34m\u001b[0m\n\u001b[0;32m      1\u001b[0m \u001b[1;32mimport\u001b[0m \u001b[0mpandas\u001b[0m \u001b[1;32mas\u001b[0m \u001b[0mpd\u001b[0m\u001b[1;33m\u001b[0m\u001b[1;33m\u001b[0m\u001b[0m\n\u001b[1;32m----> 2\u001b[1;33m \u001b[0mdf\u001b[0m \u001b[1;33m=\u001b[0m \u001b[0mpd\u001b[0m\u001b[1;33m.\u001b[0m\u001b[0mDataFrame\u001b[0m\u001b[1;33m(\u001b[0m\u001b[0musers_dict\u001b[0m\u001b[1;33m)\u001b[0m\u001b[1;33m.\u001b[0m\u001b[0mT\u001b[0m\u001b[1;33m\u001b[0m\u001b[1;33m\u001b[0m\u001b[0m\n\u001b[0m",
      "\u001b[1;31mNameError\u001b[0m: name 'users_dict' is not defined"
     ]
    }
   ],
   "source": [
    "import pandas as pd\n",
    "df = pd.DataFrame(users_dict).T"
   ]
  },
  {
   "cell_type": "code",
   "execution_count": 4,
   "metadata": {},
   "outputs": [],
   "source": [
    "df = pd.read_csv('df_vk.csv') # read data recorded dataset"
   ]
  },
  {
   "cell_type": "code",
   "execution_count": 7,
   "metadata": {},
   "outputs": [],
   "source": [
    "df['ID'] = users_dict.keys()"
   ]
  },
  {
   "cell_type": "code",
   "execution_count": 8,
   "metadata": {},
   "outputs": [],
   "source": [
    "import matplotlib.pyplot as plt\n",
    "def draw_pie_diagram(name):\n",
    "    print(name)\n",
    "    name.plot(kind='pie')\n",
    "    plt.axis('equal')\n",
    "    plt.show()\n",
    "\n",
    "def draw_pie_diagram_advanced(name, lst=[], exp=None):\n",
    "    print(name)\n",
    "    if exp != None:\n",
    "           exp = exp\n",
    "    fig1, ax1 = plt.subplots(figsize=(12,7))\n",
    "    ax1.pie(name, explode=exp, labels=lst, autopct='%1.1f%%', shadow=True, startangle=90)\n",
    "    # Equal aspect ratio ensures that pie is drawn as a circle\n",
    "    ax1.axis('equal')  \n",
    "    plt.tight_layout()\n",
    "    plt.legend()\n",
    "    plt.show()"
   ]
  },
  {
   "cell_type": "code",
   "execution_count": 18,
   "metadata": {},
   "outputs": [],
   "source": [
    "import numpy as np # работать работает, но надо ли???\n",
    "df['city'] = df['city'].replace('Не указан', 'Not specified')\n",
    "# df['bdate'] = df['bdate'].replace('0', np.nan)\n",
    "df['country'] = df['country'].replace(0, 'Not specified')"
   ]
  },
  {
   "cell_type": "code",
   "execution_count": 5,
   "metadata": {},
   "outputs": [
    {
     "data": {
      "text/html": [
       "<div>\n",
       "<style scoped>\n",
       "    .dataframe tbody tr th:only-of-type {\n",
       "        vertical-align: middle;\n",
       "    }\n",
       "\n",
       "    .dataframe tbody tr th {\n",
       "        vertical-align: top;\n",
       "    }\n",
       "\n",
       "    .dataframe thead th {\n",
       "        text-align: right;\n",
       "    }\n",
       "</style>\n",
       "<table border=\"1\" class=\"dataframe\">\n",
       "  <thead>\n",
       "    <tr style=\"text-align: right;\">\n",
       "      <th></th>\n",
       "      <th>bdate</th>\n",
       "      <th>city</th>\n",
       "      <th>country</th>\n",
       "      <th>sex</th>\n",
       "      <th>ID</th>\n",
       "      <th>age</th>\n",
       "    </tr>\n",
       "  </thead>\n",
       "  <tbody>\n",
       "    <tr>\n",
       "      <th>0</th>\n",
       "      <td>0</td>\n",
       "      <td>Not specified</td>\n",
       "      <td>Not specified</td>\n",
       "      <td>2</td>\n",
       "      <td>1223384</td>\n",
       "      <td>NaN</td>\n",
       "    </tr>\n",
       "    <tr>\n",
       "      <th>1</th>\n",
       "      <td>25.12.1989</td>\n",
       "      <td>Not specified</td>\n",
       "      <td>Russia</td>\n",
       "      <td>2</td>\n",
       "      <td>2104199</td>\n",
       "      <td>30.0</td>\n",
       "    </tr>\n",
       "    <tr>\n",
       "      <th>2</th>\n",
       "      <td>0</td>\n",
       "      <td>Not specified</td>\n",
       "      <td>Not specified</td>\n",
       "      <td>1</td>\n",
       "      <td>3030329</td>\n",
       "      <td>NaN</td>\n",
       "    </tr>\n",
       "    <tr>\n",
       "      <th>3</th>\n",
       "      <td>26.7.1985</td>\n",
       "      <td>Stary Oskol</td>\n",
       "      <td>Russia</td>\n",
       "      <td>2</td>\n",
       "      <td>3365394</td>\n",
       "      <td>34.0</td>\n",
       "    </tr>\n",
       "    <tr>\n",
       "      <th>4</th>\n",
       "      <td>2.6</td>\n",
       "      <td>Tomsk</td>\n",
       "      <td>Russia</td>\n",
       "      <td>1</td>\n",
       "      <td>3376422</td>\n",
       "      <td>NaN</td>\n",
       "    </tr>\n",
       "    <tr>\n",
       "      <th>5</th>\n",
       "      <td>10.8</td>\n",
       "      <td>Tomsk</td>\n",
       "      <td>Russia</td>\n",
       "      <td>2</td>\n",
       "      <td>3501915</td>\n",
       "      <td>NaN</td>\n",
       "    </tr>\n",
       "    <tr>\n",
       "      <th>6</th>\n",
       "      <td>29.5.1985</td>\n",
       "      <td>Tomsk</td>\n",
       "      <td>Russia</td>\n",
       "      <td>2</td>\n",
       "      <td>3781878</td>\n",
       "      <td>34.0</td>\n",
       "    </tr>\n",
       "    <tr>\n",
       "      <th>7</th>\n",
       "      <td>21.6.1987</td>\n",
       "      <td>Minsk</td>\n",
       "      <td>Belarus</td>\n",
       "      <td>1</td>\n",
       "      <td>3962448</td>\n",
       "      <td>32.0</td>\n",
       "    </tr>\n",
       "    <tr>\n",
       "      <th>8</th>\n",
       "      <td>0</td>\n",
       "      <td>Moscow</td>\n",
       "      <td>Russia</td>\n",
       "      <td>2</td>\n",
       "      <td>4349083</td>\n",
       "      <td>NaN</td>\n",
       "    </tr>\n",
       "    <tr>\n",
       "      <th>9</th>\n",
       "      <td>0</td>\n",
       "      <td>Megion</td>\n",
       "      <td>Russia</td>\n",
       "      <td>1</td>\n",
       "      <td>4848322</td>\n",
       "      <td>NaN</td>\n",
       "    </tr>\n",
       "  </tbody>\n",
       "</table>\n",
       "</div>"
      ],
      "text/plain": [
       "        bdate           city        country  sex       ID   age\n",
       "0           0  Not specified  Not specified    2  1223384   NaN\n",
       "1  25.12.1989  Not specified         Russia    2  2104199  30.0\n",
       "2           0  Not specified  Not specified    1  3030329   NaN\n",
       "3   26.7.1985    Stary Oskol         Russia    2  3365394  34.0\n",
       "4         2.6          Tomsk         Russia    1  3376422   NaN\n",
       "5        10.8          Tomsk         Russia    2  3501915   NaN\n",
       "6   29.5.1985          Tomsk         Russia    2  3781878  34.0\n",
       "7   21.6.1987          Minsk        Belarus    1  3962448  32.0\n",
       "8           0         Moscow         Russia    2  4349083   NaN\n",
       "9           0         Megion         Russia    1  4848322   NaN"
      ]
     },
     "execution_count": 5,
     "metadata": {},
     "output_type": "execute_result"
    }
   ],
   "source": [
    "df.head(10)"
   ]
  },
  {
   "cell_type": "code",
   "execution_count": 74,
   "metadata": {},
   "outputs": [
    {
     "data": {
      "text/plain": [
       "bdate\n",
       "False    2567\n",
       "Name: ID, dtype: int64"
      ]
     },
     "execution_count": 74,
     "metadata": {},
     "output_type": "execute_result"
    }
   ],
   "source": [
    "df.groupby(df['bdate']== 0)['ID'].count()"
   ]
  },
  {
   "cell_type": "code",
   "execution_count": 80,
   "metadata": {},
   "outputs": [],
   "source": [
    "df.to_csv('df_vk.csv', index=False)"
   ]
  },
  {
   "cell_type": "code",
   "execution_count": 70,
   "metadata": {},
   "outputs": [
    {
     "name": "stdout",
     "output_type": "stream",
     "text": [
      "<class 'pandas.core.frame.DataFrame'>\n",
      "Int64Index: 2567 entries, 1223384 to 569529169\n",
      "Data columns (total 5 columns):\n",
      "bdate      2567 non-null object\n",
      "city       2567 non-null object\n",
      "country    2567 non-null object\n",
      "sex        2567 non-null object\n",
      "ID         2567 non-null int32\n",
      "dtypes: int32(1), object(4)\n",
      "memory usage: 70.2+ KB\n"
     ]
    }
   ],
   "source": [
    "df.info()"
   ]
  },
  {
   "cell_type": "code",
   "execution_count": 75,
   "metadata": {},
   "outputs": [],
   "source": [
    "def get_age (date):\n",
    "    if len(date) > 5:\n",
    "        age = 2019 - int(date[-4:])\n",
    "    else:\n",
    "        age = None\n",
    "    return age\n",
    "\n",
    "df['age'] = df.apply(lambda row: get_age(row['bdate']), axis=1)"
   ]
  },
  {
   "cell_type": "code",
   "execution_count": 73,
   "metadata": {},
   "outputs": [],
   "source": [
    "df['bdate'] = df['bdate'].astype(str)"
   ]
  },
  {
   "cell_type": "code",
   "execution_count": 7,
   "metadata": {},
   "outputs": [
    {
     "name": "stdout",
     "output_type": "stream",
     "text": [
      "59.17413322945072\n"
     ]
    }
   ],
   "source": [
    "perc = df[df['age'].isnull()]['ID'].count()/df['ID'].count()*100\n",
    "print(perc)"
   ]
  },
  {
   "cell_type": "code",
   "execution_count": 9,
   "metadata": {},
   "outputs": [
    {
     "name": "stdout",
     "output_type": "stream",
     "text": [
      "24.0\n"
     ]
    }
   ],
   "source": [
    "median_age = df['age'].median()\n",
    "print(median_age)"
   ]
  },
  {
   "cell_type": "code",
   "execution_count": 10,
   "metadata": {},
   "outputs": [
    {
     "name": "stdout",
     "output_type": "stream",
     "text": [
      "25.894083969465647\n"
     ]
    }
   ],
   "source": [
    "average_age = df['age'].mean()\n",
    "print(average_age)"
   ]
  },
  {
   "cell_type": "code",
   "execution_count": 11,
   "metadata": {},
   "outputs": [
    {
     "name": "stdout",
     "output_type": "stream",
     "text": [
      "+-----------------------------------+-------------+------------+\n",
      "| % of users who didnt indicate age | Average age | Median age |\n",
      "+-----------------------------------+-------------+------------+\n",
      "|              59.174               |    24.0     |   25.894   |\n",
      "+-----------------------------------+-------------+------------+\n"
     ]
    }
   ],
   "source": [
    "from beautifultable import BeautifulTable\n",
    "table = BeautifulTable()\n",
    "table.column_headers = ['% of users who didnt indicate age', 'Average age','Median age']\n",
    "\n",
    "count = 0\n",
    "table.append_row([perc, median_age, average_age])\n",
    "    \n",
    "print(table)"
   ]
  },
  {
   "cell_type": "code",
   "execution_count": 23,
   "metadata": {},
   "outputs": [
    {
     "name": "stdout",
     "output_type": "stream",
     "text": [
      "sex\n",
      "0       1\n",
      "1     912\n",
      "2    1654\n",
      "Name: ID, dtype: int64\n"
     ]
    },
    {
     "data": {
      "image/png": "[encoded data removed]",
      "text/plain": [
       "<Figure size 864x504 with 1 Axes>"
      ]
     },
     "metadata": {},
     "output_type": "display_data"
    }
   ],
   "source": [
    "sex_count = df.groupby(['sex'])['ID'].count()\n",
    "draw_pie_diagram_advanced(sex_count, ['Not specified', 'Женский', 'Мужской'])"
   ]
  },
  {
   "cell_type": "code",
   "execution_count": 45,
   "metadata": {},
   "outputs": [
    {
     "name": "stdout",
     "output_type": "stream",
     "text": [
      "24.6980911569926\n"
     ]
    }
   ],
   "source": [
    "perc_city = df[df['city'] == 'Not specified']['ID'].count()/df['ID'].count()*100\n",
    "print(perc_city)"
   ]
  },
  {
   "cell_type": "code",
   "execution_count": 38,
   "metadata": {},
   "outputs": [
    {
     "name": "stdout",
     "output_type": "stream",
     "text": [
      "city\n",
      "                      1\n",
      "Abakan                5\n",
      "Achinsk               2\n",
      "Almalyk               4\n",
      "Almaty               12\n",
      "Altayskoe             1\n",
      "Amsterdam             1\n",
      "Anapa                 1\n",
      "Andorra la Vella      1\n",
      "Anzhero-Sudzhensk     4\n",
      "Arkhangelsk           2\n",
      "Arzamas               1\n",
      "Ashkhabad             1\n",
      "Asino                 5\n",
      "Axu                   1\n",
      "Bachatsky             1\n",
      "Barnaul               6\n",
      "Bekabad               1\n",
      "Beloe                 1\n",
      "Belokurikha           1\n",
      "Beloretsk             1\n",
      "Belovo                3\n",
      "Berezniki             1\n",
      "Berezovsky            1\n",
      "Bishkek               5\n",
      "Biysk                 4\n",
      "Blagoveschensk        2\n",
      "Bryansk               2\n",
      "Cheboxary             2\n",
      "Chelyabinsk           2\n",
      "                     ..\n",
      "Tyumen                6\n",
      "Udachny               1\n",
      "Ufa                   6\n",
      "Ulan-Ude              7\n",
      "Ulyanovsk             1\n",
      "Ust-Katav             1\n",
      "Uzlovaya              1\n",
      "Velikiy Novgorod      1\n",
      "Vilyuysk              1\n",
      "Vitim                 1\n",
      "Vladimir              1\n",
      "Vladivostok           5\n",
      "Vlorë                 1\n",
      "Volgograd             2\n",
      "Volodino              1\n",
      "Vologda               2\n",
      "Voronezh              3\n",
      "Yakutsk               8\n",
      "Yaroslavl             2\n",
      "Yarovoe               1\n",
      "Yekaterinburg        19\n",
      "Yurga                 5\n",
      "Zaporizhia            1\n",
      "Zarafshan             2\n",
      "Zarinsk               2\n",
      "Zelenogorsk           2\n",
      "Zheleznogorsk         3\n",
      "Zheltye Vody          1\n",
      "Zhezkazgan            1\n",
      "Zhigansk              1\n",
      "Name: ID, Length: 238, dtype: int64\n"
     ]
    }
   ],
   "source": [
    "cities_seria = df.groupby(['city'])['ID'].count()\n",
    "print(cities_seria)"
   ]
  },
  {
   "cell_type": "code",
   "execution_count": 40,
   "metadata": {},
   "outputs": [
    {
     "name": "stdout",
     "output_type": "stream",
     "text": [
      "country\n",
      "Albania                  2\n",
      "Andorra                  1\n",
      "Belarus                 11\n",
      "Brazil                   1\n",
      "China                    1\n",
      "Cyprus                   1\n",
      "Czech Republic           6\n",
      "Côte d'Ivoire            1\n",
      "Denmark                  1\n",
      "Dominican Republic       1\n",
      "Estonia                  2\n",
      "France                   2\n",
      "French Polynesia         1\n",
      "Germany                  4\n",
      "Israel                   2\n",
      "Jamaica                  2\n",
      "Kazakhstan             104\n",
      "Kyrgyzstan               8\n",
      "Luxembourg               1\n",
      "Monaco                   1\n",
      "Netherlands              1\n",
      "Norway                   1\n",
      "Not specified          359\n",
      "Russia                1982\n",
      "South Korea              1\n",
      "Spain                    1\n",
      "Switzerland              1\n",
      "Tajikistan               2\n",
      "Turkmenistan             3\n",
      "USA                      9\n",
      "Ukraine                 33\n",
      "United Kingdom           1\n",
      "Uzbekistan              19\n",
      "Vatican City             1\n",
      "Name: ID, dtype: int64\n"
     ]
    }
   ],
   "source": [
    "countries_seria = df.groupby(['country'])['ID'].count()\n",
    "print(countries_seria)"
   ]
  },
  {
   "cell_type": "code",
   "execution_count": 44,
   "metadata": {},
   "outputs": [
    {
     "name": "stdout",
     "output_type": "stream",
     "text": [
      "13.985196727697701\n"
     ]
    }
   ],
   "source": [
    "perc_country = df[df['country'] == 'Not specified']['ID'].count()/df['ID'].count()*100\n",
    "print(perc_country)"
   ]
  },
  {
   "cell_type": "code",
   "execution_count": 30,
   "metadata": {},
   "outputs": [],
   "source": [
    "cities_dict = cities_seria.to_dict() # make a dictionary of cities\n",
    "countries_dict = countries_seria.to_dict() # make a dictionary from countries"
   ]
  },
  {
   "cell_type": "code",
   "execution_count": 31,
   "metadata": {},
   "outputs": [],
   "source": [
    "from collections import OrderedDict\n",
    "cities_sorted_by_value = OrderedDict(sorted(cities_dict.items(), key=lambda x: x[1]))\n",
    "countries_sorted_by_value = OrderedDict(sorted(countries_dict.items(), key=lambda x: x[1]))"
   ]
  },
  {
   "cell_type": "code",
   "execution_count": 32,
   "metadata": {},
   "outputs": [
    {
     "name": "stdout",
     "output_type": "stream",
     "text": [
      "+------------------+---------+\n",
      "|       City       | Members |\n",
      "+------------------+---------+\n",
      "|      Tomsk       |  1121   |\n",
      "+------------------+---------+\n",
      "|  Not specified   |   634   |\n",
      "+------------------+---------+\n",
      "|      Moscow      |   85    |\n",
      "+------------------+---------+\n",
      "| Saint Petersburg |   50    |\n",
      "+------------------+---------+\n",
      "|     Seversk      |   33    |\n",
      "+------------------+---------+\n",
      "|   Novosibirsk    |   30    |\n",
      "+------------------+---------+\n",
      "|     Kemerovo     |   27    |\n",
      "+------------------+---------+\n",
      "|  Yekaterinburg   |   19    |\n",
      "+------------------+---------+\n",
      "|      Kazan       |   16    |\n",
      "+------------------+---------+\n",
      "|    Karaganda     |   15    |\n",
      "+------------------+---------+\n"
     ]
    }
   ],
   "source": [
    "from beautifultable import BeautifulTable\n",
    "table = BeautifulTable()\n",
    "table.column_headers = ['City', 'Members']\n",
    "\n",
    "count = 0\n",
    "for key in reversed(cities_sorted_by_value):\n",
    "    table.append_row([key, cities_sorted_by_value[key]])\n",
    "    count += 1\n",
    "    if count == 10:\n",
    "        break\n",
    "    \n",
    "print(table)"
   ]
  },
  {
   "cell_type": "code",
   "execution_count": 52,
   "metadata": {},
   "outputs": [
    {
     "name": "stdout",
     "output_type": "stream",
     "text": [
      "+------------------------------------+---------------------------------------+\n",
      "| % of users who didnt indicate city | % of users who didnt indicate country |\n",
      "+------------------------------------+---------------------------------------+\n",
      "|               24.698               |                13.985                 |\n",
      "+------------------------------------+---------------------------------------+\n"
     ]
    }
   ],
   "source": [
    "from beautifultable import BeautifulTable\n",
    "table = BeautifulTable()\n",
    "table.column_headers = ['% of users who didnt indicate city', '% of users who didnt indicate country']\n",
    "\n",
    "count = 0\n",
    "#for key in reversed(cities_sorted_by_value):\n",
    "table.append_row([perc_city,perc_country])\n",
    "#     count += 1\n",
    "#     if count == 10:\n",
    "#         break\n",
    "    \n",
    "print(table)"
   ]
  },
  {
   "cell_type": "code",
   "execution_count": 33,
   "metadata": {},
   "outputs": [
    {
     "name": "stdout",
     "output_type": "stream",
     "text": [
      "+----------------+---------+\n",
      "|    Country     | Members |\n",
      "+----------------+---------+\n",
      "|     Russia     |  1982   |\n",
      "+----------------+---------+\n",
      "| Not specified  |   359   |\n",
      "+----------------+---------+\n",
      "|   Kazakhstan   |   104   |\n",
      "+----------------+---------+\n",
      "|    Ukraine     |   33    |\n",
      "+----------------+---------+\n",
      "|   Uzbekistan   |   19    |\n",
      "+----------------+---------+\n",
      "|    Belarus     |   11    |\n",
      "+----------------+---------+\n",
      "|      USA       |    9    |\n",
      "+----------------+---------+\n",
      "|   Kyrgyzstan   |    8    |\n",
      "+----------------+---------+\n",
      "| Czech Republic |    6    |\n",
      "+----------------+---------+\n",
      "|    Germany     |    4    |\n",
      "+----------------+---------+\n"
     ]
    }
   ],
   "source": [
    "from beautifultable import BeautifulTable\n",
    "table = BeautifulTable()\n",
    "table.column_headers = ['Country', 'Members']\n",
    "\n",
    "count = 0\n",
    "for key in reversed(countries_sorted_by_value):\n",
    "    table.append_row([key, countries_sorted_by_value[key]])\n",
    "    count += 1\n",
    "    if count == 10:\n",
    "        break\n",
    "    \n",
    "print(table)"
   ]
  }
 ],
 "metadata": {
  "kernelspec": {
   "display_name": "Python 3",
   "language": "python",
   "name": "python3"
  },
  "language_info": {
   "codemirror_mode": {
    "name": "ipython",
    "version": 3
   },
   "file_extension": ".py",
   "mimetype": "text/x-python",
   "name": "python",
   "nbconvert_exporter": "python",
   "pygments_lexer": "ipython3",
   "version": "3.7.4"
  }
 },
 "nbformat": 4,
 "nbformat_minor": 2
}
